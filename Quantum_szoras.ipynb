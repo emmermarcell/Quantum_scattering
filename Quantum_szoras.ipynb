{
 "cells": [
  {
   "cell_type": "markdown",
   "metadata": {},
   "source": [
    "## Időfüggő Schrödinger-egyenlet egyenlet egy dimenzióban\n",
    "$$ -\\dfrac{\\hbar^2}{2m}\\partial_x^2\\, \\psi(t,x) + V(x) \\psi(t,x) = i \\hbar \\partial_{t}\\, \\psi(t,x) \\; , $$\n",
    "ahol $\\psi$ a részecskét jellemző hullámfüggvény.\n",
    "\n",
    "### Kezdeti- és peremfeltételek:\n",
    "* Kezdeti feltétel: a $t=0$ időpontban ismerjük az $\\psi(t=0,x)$ függvény alakját.\n",
    "* Peremfeltételek: több lehetőség is van.\n",
    " * Megadhatjuk az (esetleg időfüggő) hőmérsékletet a tartomány szélein: $\\psi(t,0)$ és $\\psi(t,L)$ ismertek. Ez az ún. Dirichlet határfeltétel. \n",
    " * Megadhatjuk a hőáramot a tartomány szélein: $\\partial_x \\, \\psi(t,0)$ és $\\partial_x \\, \\psi(t,L)$ ismertek. Ez az ún. Neumann határfeltétel.\n",
    " \n",
    "### Egyszerű numerikus megvalósítás\n",
    "* Diszkretizáljuk $t$-t és $x$-et! Közelítsük a deriváltakat:\n",
    " * $\\partial_{t} \\, \\psi(t,x) \\rightarrow \\frac{\\psi(t_{i+1},x_{m}) - \\psi(t_{i},x_m)}{\\Delta t} + O(\\Delta t)$\n",
    " * $\\partial_{x}^2 \\, \\psi(t,x) \\rightarrow \\frac{\\psi(t_{i},x_{m+1}) + \\psi(t_{i},x_{m-1}) - 2 \\psi(t_{i},x_{m})}{\\Delta x^2} + O(\\Delta x^2)$\n",
    " * **Megjegyzés** Láthatóan időben elsőrendű, térben másodrendű a deriváltak közelítése.\n",
    "* Időpontról időpontra előrehaladva állítjuk elő a megoldást:\n",
    "$$\\psi(t_{i+1},x_{m}) = \\psi(t_{i},x_{m}) + \\Delta t \\left[ \\dfrac{i\\hbar}{2m} \\frac{\\psi(t_{i},x_{m+1}) + \\psi(t_{i},x_{m-1}) - 2 \\psi(t_{i},x_{m})}{\\Delta x^2} - \\dfrac{i}{\\hbar} V(x_{m}) \\psi(t_{i},x_{m}) \\right]$$\n",
    "* A kezdeti feltételeket az $\\psi(0,x_{m})$ adatok megadásával rögzítjük.\n",
    "* A peremfeltételek figyelembevételéhez: egy-egy \"peremen túli\" rácshely (legyenek ezek $x_0$ és $x_{\\max}$). Ezek értékét \"kívülről\" állítjuk be:\n",
    " * Dirichlet peremfeltétel esetén az $\\psi(t_i, x_0)$ és $\\psi(t_i, x_{\\max})$ értéket a perem által meghatározottnak választjuk.\n",
    " * Neumann peremfeltétel esetén a perem-deriváltak ismeretében az $\\psi(t_i,x_0) = \\psi(t_i,x_1) - \\partial_x \\psi(t_i,x_0) \\Delta x$ és $\\psi(t_i,x_{\\max}) = \\psi(t_i,x_{\\max -1}) + \\partial_x \\psi(t_i,x_{\\max}) \\Delta x$ választással élünk."
   ]
  },
  {
   "cell_type": "code",
   "execution_count": null,
   "metadata": {},
   "outputs": [],
   "source": []
  }
 ],
 "metadata": {
  "kernelspec": {
   "display_name": "Python 3",
   "language": "python",
   "name": "python3"
  },
  "language_info": {
   "codemirror_mode": {
    "name": "ipython",
    "version": 3
   },
   "file_extension": ".py",
   "mimetype": "text/x-python",
   "name": "python",
   "nbconvert_exporter": "python",
   "pygments_lexer": "ipython3",
   "version": "3.8.3"
  }
 },
 "nbformat": 4,
 "nbformat_minor": 4
}
